{
  "cells": [
    {
      "cell_type": "markdown",
      "metadata": {
        "id": "view-in-github",
        "colab_type": "text"
      },
      "source": [
        "<a href=\"https://colab.research.google.com/github/Giovanni26/Colab/blob/main/self_training_pytorch.ipynb\" target=\"_parent\"><img src=\"https://colab.research.google.com/assets/colab-badge.svg\" alt=\"Open In Colab\"/></a>"
      ]
    },
    {
      "cell_type": "code",
      "execution_count": 1,
      "metadata": {
        "id": "mkBBExFGM8yP"
      },
      "outputs": [],
      "source": [
        "## Standard libraries\n",
        "import torch\n",
        "import torch.nn as nn\n",
        "import torch.optim as optim\n",
        "import torch.utils.data as data\n",
        "import math\n",
        "import copy"
      ]
    },
    {
      "cell_type": "code",
      "source": [
        "class MultiHeadAttention(nn.Module):\n",
        "    def __init__(self, d_model, num_heads):\n",
        "        super(MultiHeadAttention, self).__init__()\n",
        "        # Ensure that the model dimension (d_model) is divisible by the number of heads\n",
        "        assert d_model % num_heads == 0, \"d_model must be divisible by num_heads\"\n",
        "\n",
        "        # Initialize dimensions\n",
        "        self.d_model = d_model # Model's dimension, this is the size of the input embeddings\n",
        "        self.num_heads = num_heads # Number of attention heads\n",
        "\n",
        "        # Dimension of each head's key, query, and value\n",
        "        # Here they are all equal but we can allow lower 'projection spaces' (e.g. see Gohjogh Ghodsi paper)\n",
        "        # self.d_k is the p parameter in the paper\n",
        "        self.d_k = d_model // num_heads\n",
        "\n",
        "        # Linear layers for transforming inputs\n",
        "        self.W_q = nn.Linear(d_model, d_model) # Query transformation\n",
        "        self.W_k = nn.Linear(d_model, d_model) # Key transformation\n",
        "        self.W_v = nn.Linear(d_model, d_model) # Value transformation\n",
        "        self.W_o = nn.Linear(d_model, d_model) # Output transformation\n",
        "\n",
        "    def scaled_dot_product_attention(self, Q, K, V, mask=None):\n",
        "        # Calculate attention scores\n",
        "        attn_scores = torch.matmul(Q, K.transpose(-2, -1)) / math.sqrt(self.d_k)\n",
        "\n",
        "        # Apply mask if provided (useful for preventing attention to certain parts like padding)\n",
        "        if mask is not None:\n",
        "            attn_scores = attn_scores.masked_fill(mask == 0, -1e9)\n",
        "\n",
        "        # Softmax is applied to obtain attention probabilities\n",
        "        attn_probs = torch.softmax(attn_scores, dim=-1)\n",
        "\n",
        "        # Multiply by values to obtain the final output\n",
        "        output = torch.matmul(attn_probs, V)\n",
        "        return output\n",
        "\n",
        "    def split_heads(self, x):\n",
        "        # Reshape the input to have num_heads for multi-head attention\n",
        "        batch_size, seq_length, d_model = x.size()\n",
        "        return x.view(batch_size, seq_length, self.num_heads, self.d_k).transpose(1, 2)\n",
        "\n",
        "    def combine_heads(self, x):\n",
        "        # Combine the multiple heads back to original shape\n",
        "        batch_size, _, seq_length, d_k = x.size()\n",
        "        return x.transpose(1, 2).contiguous().view(batch_size, seq_length, self.d_model)\n",
        "\n",
        "    def forward(self, Q, K, V, mask=None):\n",
        "        # Apply linear transformations and split heads\n",
        "        Q = self.split_heads(self.W_q(Q))\n",
        "        K = self.split_heads(self.W_k(K))\n",
        "        V = self.split_heads(self.W_v(V))\n",
        "\n",
        "        # Perform scaled dot-product attention\n",
        "        attn_output = self.scaled_dot_product_attention(Q, K, V, mask)\n",
        "\n",
        "        # Combine heads and apply output transformation\n",
        "        output = self.W_o(self.combine_heads(attn_output))\n",
        "        return output\n"
      ],
      "metadata": {
        "id": "0APKNqC0FyQ9"
      },
      "execution_count": 17,
      "outputs": []
    },
    {
      "cell_type": "code",
      "source": [
        "# Practicing with tensors' size\n",
        "# Create a random tensor with shape (batch_size, seq_length, d_model)\n",
        "# For example, let's say we have:\n",
        "batch_size = 4   # Number of sequences in a batch\n",
        "seq_length = 10  # Length of each sequence\n",
        "d_model = 64     # Dimensionality of the model\n",
        "\n",
        "# Create a tensor with the specified shape\n",
        "# Let's remember that a tensor is a multi-dimensional object, so in this specific case we have\n",
        "# 4 samples (batches) with 10 columns and 64 rows (assuming vectors are stored as column vectors)\n",
        "x = torch.randn(batch_size, seq_length, d_model)\n",
        "\n",
        "# Get the sizes\n",
        "batch_size, seq_length, d_model = x.size()\n",
        "\n",
        "# Print the results\n",
        "print(\"Batch Size:\", batch_size)\n",
        "print(\"Sequence Length:\", seq_length)\n",
        "print(\"Model Dimension:\", d_model)\n",
        "\n",
        "# Building a small class\n",
        "class MyTransformer:\n",
        "    def __init__(self, num_heads, d_k):\n",
        "        self.num_heads = num_heads\n",
        "        self.d_k = d_k\n",
        "\n",
        "    def split_heads(self, x):\n",
        "        # Reshape the input to have num_heads for multi-head attention\n",
        "        batch_size, seq_length, d_model = x.size()\n",
        "        return x.view(batch_size, seq_length, self.num_heads, self.d_k).transpose(1, 2)\n",
        "\n",
        "# Create an instance of the class\n",
        "transformer = MyTransformer(num_heads=8, d_k=8)\n",
        "\n",
        "# Create a random tensor x with shape (batch_size, seq_length, d_model)\n",
        "x = torch.randn(4, 10, 64)  # Example tensor\n",
        "\n",
        "# Call the method on the instance\n",
        "x_1 = transformer.split_heads(x)\n",
        "\n",
        "# Print the shape of the output\n",
        "print(x_1.shape)  # Should be (4, 8, 10, 8)\n",
        "\n"
      ],
      "metadata": {
        "colab": {
          "base_uri": "https://localhost:8080/"
        },
        "id": "GFVF9rQb1zR3",
        "outputId": "afc450c0-86cc-4ec8-da49-4c48fec71815"
      },
      "execution_count": 22,
      "outputs": [
        {
          "output_type": "stream",
          "name": "stdout",
          "text": [
            "Batch Size: 4\n",
            "Sequence Length: 10\n",
            "Model Dimension: 64\n",
            "torch.Size([4, 8, 10, 8])\n"
          ]
        },
        {
          "output_type": "execute_result",
          "data": {
            "text/plain": [
              "torch.Size([2, 8])"
            ]
          },
          "metadata": {},
          "execution_count": 22
        }
      ]
    },
    {
      "cell_type": "code",
      "source": [
        "a = torch.randn(2,4, 4)\n",
        "a.size()\n",
        "print(a)\n",
        "\n"
      ],
      "metadata": {
        "colab": {
          "base_uri": "https://localhost:8080/"
        },
        "id": "boSVW_oVSZFL",
        "outputId": "bafb9eea-2241-4a89-db13-911cd8b6c65c"
      },
      "execution_count": 29,
      "outputs": [
        {
          "output_type": "stream",
          "name": "stdout",
          "text": [
            "tensor([[[ 0.5375,  0.3533, -1.0756,  1.5183],\n",
            "         [ 0.0887, -1.0855, -1.3476,  1.4100],\n",
            "         [-0.3008, -0.1183, -0.2767, -1.0378],\n",
            "         [-1.4390, -0.3711,  0.0848, -1.4813]],\n",
            "\n",
            "        [[ 2.0656,  0.7584,  0.8162,  0.5624],\n",
            "         [ 2.5525, -0.2654,  1.2728, -0.6032],\n",
            "         [ 1.4448,  0.7006,  0.7994,  0.6087],\n",
            "         [-0.4891,  0.8860, -0.8667,  0.9676]]])\n"
          ]
        }
      ]
    },
    {
      "cell_type": "code",
      "source": [
        "z = a.view(2, 16)  # the size -1 is inferred from other dimensions\n",
        "z.size()\n",
        "print(z)"
      ],
      "metadata": {
        "colab": {
          "base_uri": "https://localhost:8080/"
        },
        "id": "CYPDUjSxSwb3",
        "outputId": "893fda3a-3420-455b-93d9-8892ff4a8efb"
      },
      "execution_count": 30,
      "outputs": [
        {
          "output_type": "stream",
          "name": "stdout",
          "text": [
            "tensor([[ 0.5375,  0.3533, -1.0756,  1.5183,  0.0887, -1.0855, -1.3476,  1.4100,\n",
            "         -0.3008, -0.1183, -0.2767, -1.0378, -1.4390, -0.3711,  0.0848, -1.4813],\n",
            "        [ 2.0656,  0.7584,  0.8162,  0.5624,  2.5525, -0.2654,  1.2728, -0.6032,\n",
            "          1.4448,  0.7006,  0.7994,  0.6087, -0.4891,  0.8860, -0.8667,  0.9676]])\n"
          ]
        }
      ]
    },
    {
      "cell_type": "code",
      "source": [
        "y = a.view(32)\n",
        "y.size()\n",
        "print(y)"
      ],
      "metadata": {
        "colab": {
          "base_uri": "https://localhost:8080/"
        },
        "id": "rRd50fT4Sq4e",
        "outputId": "2b3e0f41-dca5-4eb3-e63d-0e63314c898c"
      },
      "execution_count": 33,
      "outputs": [
        {
          "output_type": "stream",
          "name": "stdout",
          "text": [
            "tensor([ 0.5375,  0.3533, -1.0756,  1.5183,  0.0887, -1.0855, -1.3476,  1.4100,\n",
            "        -0.3008, -0.1183, -0.2767, -1.0378, -1.4390, -0.3711,  0.0848, -1.4813,\n",
            "         2.0656,  0.7584,  0.8162,  0.5624,  2.5525, -0.2654,  1.2728, -0.6032,\n",
            "         1.4448,  0.7006,  0.7994,  0.6087, -0.4891,  0.8860, -0.8667,  0.9676])\n"
          ]
        }
      ]
    }
  ],
  "metadata": {
    "kernelspec": {
      "display_name": "Python 3 (ipykernel)",
      "language": "python",
      "name": "python3"
    },
    "language_info": {
      "codemirror_mode": {
        "name": "ipython",
        "version": 3
      },
      "file_extension": ".py",
      "mimetype": "text/x-python",
      "name": "python",
      "nbconvert_exporter": "python",
      "pygments_lexer": "ipython3",
      "version": "3.10.6"
    },
    "colab": {
      "provenance": [],
      "include_colab_link": true
    }
  },
  "nbformat": 4,
  "nbformat_minor": 0
}